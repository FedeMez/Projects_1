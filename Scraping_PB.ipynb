{
 "cells": [
  {
   "cell_type": "code",
   "execution_count": null,
   "metadata": {},
   "outputs": [],
   "source": [
    "import requests\n",
    "from bs4 import BeautifulSoup"
   ]
  },
  {
   "cell_type": "code",
   "execution_count": null,
   "metadata": {},
   "outputs": [],
   "source": [
    "l=[]\n",
    "base_url_1= \"https://www.purplebricks.co.uk/search/property-for-sale/greater-london/londra?page=\"\n",
    "base_url_2= \"&sortBy=2&location=City%20of%20Westminster,%20Greater%20London&searchRadius=12&searchType=ForSale&soldOrLet=false&latitude=51.5145337&longitude=-0.1595389&betasearch=true\"\n",
    "\n",
    "page=1\n",
    "while page <=110:\n",
    "    r = requests.get(base_url_1+str(page)+base_url_2)\n",
    "    c = r.content\n",
    "    soup=BeautifulSoup(c,\"html.parser\")\n",
    "    all=soup.find_all(\"div\",{\"class\":\"property-cardstyled__StyledPropertyCard-sc-15g6092-0 fwvNIe\"}) \n",
    "    for item in all:\n",
    "        d={}\n",
    "        d[\"Price\"]=(item.find(\"strong\",{\"class\":\"property-cardstyled__StyledPrice-sc-15g6092-7 cWDEnM\"}).text)\n",
    "        d[\"Type of price\"]=(item.find(\"span\",{\"class\":\"property-cardstyled__StyledPriceQualifier-sc-15g6092-8 fzmGMQ\"}).text)\n",
    "        d[\"Address\"]=(item.find(\"span\",{\"class\":\"property-cardstyled__StyledAddress-sc-15g6092-10 kLxiCm\"}).text)\n",
    "        d[\"Number of bedrooms\"]=(item.find(\"span\",{\"class\":\"property-cardstyled__StyledTitle-sc-15g6092-9 hpHzPf\"}).text)[0]\n",
    "        d[\"Type of property\"]=(item.find(\"span\",{\"class\":\"property-cardstyled__StyledTitle-sc-15g6092-9 hpHzPf\"}).text)[9:]\n",
    "        l.append(d)\n",
    "    page+= 1"
   ]
  },
  {
   "cell_type": "code",
   "execution_count": null,
   "metadata": {},
   "outputs": [],
   "source": [
    "import pandas\n",
    "import json\n",
    "df=pandas.DataFrame(l)\n",
    "print(df)"
   ]
  },
  {
   "cell_type": "code",
   "execution_count": null,
   "metadata": {},
   "outputs": [],
   "source": [
    "df.to_json(\"purplebricks.json\")"
   ]
  }
 ],
 "metadata": {
  "kernelspec": {
   "display_name": "Python 3",
   "language": "python",
   "name": "python3"
  },
  "language_info": {
   "codemirror_mode": {
    "name": "ipython",
    "version": 3
   },
   "file_extension": ".py",
   "mimetype": "text/x-python",
   "name": "python",
   "nbconvert_exporter": "python",
   "pygments_lexer": "ipython3",
   "version": "3.7.3"
  }
 },
 "nbformat": 4,
 "nbformat_minor": 4
}
